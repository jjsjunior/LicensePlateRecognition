{
 "cells": [
  {
   "cell_type": "code",
   "execution_count": 18,
   "metadata": {},
   "outputs": [],
   "source": [
    "import argparse\n",
    "import sys\n",
    "import glob\n",
    "import os\n",
    "import numpy as np\n",
    "import shutil\n",
    "import json\n",
    "import cv2\n",
    "from PIL import Image\n",
    "import char_segmentation_evaluation\n",
    "import statistics\n",
    "from matplotlib.pyplot import imshow\n"
   ]
  },
  {
   "cell_type": "code",
   "execution_count": 10,
   "metadata": {},
   "outputs": [
    {
     "name": "stdout",
     "output_type": "stream",
     "text": [
      "(16, 14)\n",
      "(19, 11)\n",
      "mean width: 12.500000 | mean heigth: 17.500000\n"
     ]
    }
   ],
   "source": [
    "images = ['/media/jones/datarec/lpr/dataset/cvat_dataset_raw/dataset_char/train/images/0/fr_l5_006_2804_1430_1825_0015_0115000001211_0_1.jpg','/media/jones/datarec/lpr/dataset/cvat_dataset_raw/dataset_char/train/images/0/fr_l5_006_2804_1430_1825_0015_0115000001226_0_3.jpg']\n",
    "sub_images = np.array([np.array(Image.open(fname)) for fname in images])\n",
    "height_list = []\n",
    "width_list = []\n",
    "for image in sub_images:\n",
    "    heigth, width = image.shape[0:2]\n",
    "    height_list.append(heigth)\n",
    "    width_list.append(width)\n",
    "    print((heigth, width))\n",
    "mean_heigth = statistics.mean(height_list)\n",
    "mean_width = statistics.mean(width_list)\n",
    "print('mean width: %f | mean heigth: %f' % (mean_width, mean_heigth) )"
   ]
  },
  {
   "cell_type": "code",
   "execution_count": 26,
   "metadata": {},
   "outputs": [
    {
     "name": "stdout",
     "output_type": "stream",
     "text": [
      "mean width: 13.580058 | mean heigth: 20.855212\n"
     ]
    }
   ],
   "source": [
    "caminho_train='/media/jones/datarec/lpr/dataset/cvat_dataset_raw/dataset_char/train/images'\n",
    "directories = [x[0] for x in os.walk(caminho_train)][2:]\n",
    "height_list = []\n",
    "width_list = []\n",
    "image_filename_list = []\n",
    "for directory in directories:\n",
    "    filelist = glob.glob(directory+'/*.jpg')\n",
    "    sub_images = np.array([np.array(Image.open(fname)) for fname in filelist])\n",
    "    for idx, image in enumerate(sub_images):\n",
    "        heigth, width = image.shape[0:2]\n",
    "        height_list.append(heigth)\n",
    "        width_list.append(width)\n",
    "        image_filename_list.append(filelist[idx])\n",
    "mean_heigth = statistics.mean(height_list)\n",
    "mean_width = statistics.mean(width_list)\n",
    "print('mean width: %f | mean heigth: %f' % (mean_width, mean_heigth) )"
   ]
  },
  {
   "cell_type": "code",
   "execution_count": 16,
   "metadata": {},
   "outputs": [
    {
     "name": "stdout",
     "output_type": "stream",
     "text": [
      "variance width: 11.414982 | variance heigth: 26.056356\n"
     ]
    }
   ],
   "source": [
    "variance_heigth = statistics.pvariance(height_list)\n",
    "variance_width = statistics.pvariance(width_list)\n",
    "print('variance width: %f | variance heigth: %f' % (variance_width, variance_heigth) )"
   ]
  },
  {
   "cell_type": "code",
   "execution_count": 17,
   "metadata": {},
   "outputs": [
    {
     "name": "stdout",
     "output_type": "stream",
     "text": [
      "max width: 27.000000 | max heigth: 44.000000\n",
      "min width: 3.000000 | min heigth: 6.000000\n"
     ]
    }
   ],
   "source": [
    "print('max width: %f | max heigth: %f' % (max(width_list), max(height_list)) )\n",
    "print('min width: %f | min heigth: %f' % (min(width_list), min(height_list)) )"
   ]
  },
  {
   "cell_type": "code",
   "execution_count": 29,
   "metadata": {},
   "outputs": [
    {
     "name": "stdout",
     "output_type": "stream",
     "text": [
      "(44, 18, 3)\n"
     ]
    },
    {
     "data": {
      "text/plain": [
       "<matplotlib.image.AxesImage at 0x7fb5fa0ddcf8>"
      ]
     },
     "execution_count": 29,
     "metadata": {},
     "output_type": "execute_result"
    },
    {
     "data": {
      "image/png": "[encoded data removed]",
      "text/plain": [
       "<Figure size 432x288 with 1 Axes>"
      ]
     },
     "metadata": {
      "needs_background": "light"
     },
     "output_type": "display_data"
    }
   ],
   "source": [
    "image_top_heigth_name = image_filename_list[height_list.index(max(height_list))]\n",
    "image_top_heigth = Image.open(image_top_heigth_name)\n",
    "nd_array_image = np.asarray(image_top_heigth)\n",
    "print(nd_array_image.shape)\n",
    "imshow(nd_array_image)"
   ]
  },
  {
   "cell_type": "code",
   "execution_count": 20,
   "metadata": {},
   "outputs": [
    {
     "data": {
      "text/plain": [
       "<matplotlib.image.AxesImage at 0x7fb5fad27940>"
      ]
     },
     "execution_count": 20,
     "metadata": {},
     "output_type": "execute_result"
    },
    {
     "data": {
      "image/png": "[encoded data removed]",
      "text/plain": [
       "<Figure size 432x288 with 1 Axes>"
      ]
     },
     "metadata": {
      "needs_background": "light"
     },
     "output_type": "display_data"
    }
   ],
   "source": [
    "imshow(np.asarray(Image.open(images[0])))"
   ]
  },
  {
   "cell_type": "code",
   "execution_count": 25,
   "metadata": {},
   "outputs": [
    {
     "data": {
      "text/plain": [
       "<matplotlib.image.AxesImage at 0x7fb5fac38a90>"
      ]
     },
     "execution_count": 25,
     "metadata": {},
     "output_type": "execute_result"
    },
    {
     "data": {
      "image/png": "[encoded data removed]",
      "text/plain": [
       "<Figure size 432x288 with 1 Axes>"
      ]
     },
     "metadata": {
      "needs_background": "light"
     },
     "output_type": "display_data"
    }
   ],
   "source": [
    "imshow(np.asarray(Image.open(images[0]).resize((14,21), Image.NEAREST)))"
   ]
  },
  {
   "cell_type": "code",
   "execution_count": null,
   "metadata": {},
   "outputs": [],
   "source": []
  }
 ],
 "metadata": {
  "kernelspec": {
   "display_name": "Python 3",
   "language": "python",
   "name": "python3"
  },
  "language_info": {
   "codemirror_mode": {
    "name": "ipython",
    "version": 3
   },
   "file_extension": ".py",
   "mimetype": "text/x-python",
   "name": "python",
   "nbconvert_exporter": "python",
   "pygments_lexer": "ipython3",
   "version": "3.5.2"
  }
 },
 "nbformat": 4,
 "nbformat_minor": 2
}
